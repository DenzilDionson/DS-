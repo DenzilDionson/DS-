{
 "cells": [
  {
   "cell_type": "markdown",
   "id": "8a69de89-8c93-45d2-8731-666b00a3ce7b",
   "metadata": {},
   "source": [
    "# HIIIIIIIII"
   ]
  },
  {
   "cell_type": "code",
   "execution_count": null,
   "id": "766b2ae4-79f3-4cd8-a4ba-b52cc299b191",
   "metadata": {},
   "outputs": [],
   "source": []
  },
  {
   "cell_type": "code",
   "execution_count": null,
   "id": "7ba3010e-a63b-4157-8484-8555b8278654",
   "metadata": {},
   "outputs": [],
   "source": []
  },
  {
   "cell_type": "code",
   "execution_count": null,
   "id": "9ae42421-4ddc-4e61-917f-a81136db0bea",
   "metadata": {},
   "outputs": [],
   "source": []
  },
  {
   "cell_type": "markdown",
   "id": "903c5c7e-c4a2-4949-82af-770d49cc6111",
   "metadata": {},
   "source": [
    "### Reshaping arrays"
   ]
  },
  {
   "cell_type": "code",
   "execution_count": 4,
   "id": "ce67742f-313a-4eb6-a30b-897d9dee7ade",
   "metadata": {},
   "outputs": [
    {
     "data": {
      "text/plain": [
       "array([[1, 2, 3],\n",
       "       [4, 5, 6]])"
      ]
     },
     "execution_count": 4,
     "metadata": {},
     "output_type": "execute_result"
    }
   ],
   "source": [
    "import numpy as np\n",
    "arr = np.array([1,2,3,4,5,6])\n",
    "reshaped = arr.reshape(2,3) # reshape to 2 rows and 3 columns\n",
    "reshaped"
   ]
  },
  {
   "cell_type": "markdown",
   "id": "3c91022f-8f52-4b25-bc0a-388c7d78a24d",
   "metadata": {},
   "source": [
    "### Universal Functions (ufunc)"
   ]
  },
  {
   "cell_type": "raw",
   "id": "ecd2311e-f423-4d0b-b1a3-3c52fb21b708",
   "metadata": {},
   "source": [
    "#Function that operates element-wise on arrays"
   ]
  },
  {
   "cell_type": "raw",
   "id": "6aef0538-7066-49ea-87fc-803d9efa6c0a",
   "metadata": {},
   "source": [
    "Mathematical Operations\n",
    "Triginometry Functions\n",
    "Comparison Operations\n",
    "Logical Operations"
   ]
  },
  {
   "cell_type": "markdown",
   "id": "4b40397e-2dd5-46d0-81fd-bde50e13c377",
   "metadata": {},
   "source": [
    "#### Mathematical Operations"
   ]
  },
  {
   "cell_type": "code",
   "execution_count": 17,
   "id": "2fc20ed9-690c-4000-b55a-2d923c152dc1",
   "metadata": {},
   "outputs": [],
   "source": [
    "x = [0,1, 2 ,3 ]"
   ]
  },
  {
   "cell_type": "code",
   "execution_count": 21,
   "id": "a14ced1f-f9eb-4eb3-b9b0-ab805bd4b6c9",
   "metadata": {},
   "outputs": [],
   "source": [
    "x=np.arange(4)"
   ]
  },
  {
   "cell_type": "code",
   "execution_count": 23,
   "id": "9d6d087b-7b4b-442e-a80f-6e6893503882",
   "metadata": {},
   "outputs": [
    {
     "name": "stdout",
     "output_type": "stream",
     "text": [
      "x = [0 1 2 3]\n"
     ]
    }
   ],
   "source": [
    "print(\"x =\",x)"
   ]
  },
  {
   "cell_type": "code",
   "execution_count": 27,
   "id": "77761b1c-cb1b-40c7-857e-91df927dbfcb",
   "metadata": {},
   "outputs": [
    {
     "name": "stdout",
     "output_type": "stream",
     "text": [
      "x +5 = [5 6 7 8]\n"
     ]
    }
   ],
   "source": [
    "print(\"x +5 =\",x+5)"
   ]
  },
  {
   "cell_type": "code",
   "execution_count": 29,
   "id": "c3023a28-6cd6-4011-b612-346d35cca920",
   "metadata": {},
   "outputs": [
    {
     "name": "stdout",
     "output_type": "stream",
     "text": [
      "x * 2 = [0 2 4 6]\n"
     ]
    }
   ],
   "source": [
    "print(\"x * 2 =\",x*2)"
   ]
  },
  {
   "cell_type": "code",
   "execution_count": 31,
   "id": "0f4823ab-ecaf-4d0c-9cae-bebb81bcf0f9",
   "metadata": {},
   "outputs": [
    {
     "name": "stdout",
     "output_type": "stream",
     "text": [
      "x / 2 = [0.  0.5 1.  1.5]\n"
     ]
    }
   ],
   "source": [
    "print(\"x / 2 =\",x/2)"
   ]
  },
  {
   "cell_type": "code",
   "execution_count": 33,
   "id": "6a98a28c-2a29-4656-85e4-f1783119c5a7",
   "metadata": {},
   "outputs": [
    {
     "name": "stdout",
     "output_type": "stream",
     "text": [
      "x // 2 = [0 0 1 1]\n"
     ]
    }
   ],
   "source": [
    "print(\"x // 2 =\",x//2) # its called as floor division"
   ]
  },
  {
   "cell_type": "code",
   "execution_count": 35,
   "id": "c1a85beb-2252-48cd-b3e2-f154160d1f79",
   "metadata": {},
   "outputs": [
    {
     "name": "stdout",
     "output_type": "stream",
     "text": [
      "x**2 =  [0 1 4 9]\n"
     ]
    }
   ],
   "source": [
    "print(\"x**2 = \",x**2)"
   ]
  },
  {
   "cell_type": "code",
   "execution_count": 37,
   "id": "3169df86-ce42-4d66-b7ab-7e57889317cb",
   "metadata": {},
   "outputs": [
    {
     "name": "stdout",
     "output_type": "stream",
     "text": [
      "x^2 =  [2 3 0 1]\n"
     ]
    }
   ],
   "source": [
    "print(\"x^2 = \",x^2)"
   ]
  },
  {
   "cell_type": "code",
   "execution_count": 39,
   "id": "761c3072-b59b-4097-b2ae-343b544583a4",
   "metadata": {},
   "outputs": [
    {
     "name": "stdout",
     "output_type": "stream",
     "text": [
      "[5 6 7 8]\n"
     ]
    }
   ],
   "source": [
    "print(np.add(x,5)) "
   ]
  },
  {
   "cell_type": "code",
   "execution_count": 41,
   "id": "db227b13-ba8d-4000-902d-c4b9f5dd65ab",
   "metadata": {},
   "outputs": [],
   "source": [
    "# adding 'add' (functions) instead of \"+\" (operators), \n",
    "#has no effect on the outcome but its easy to mess up with operators cuz you might get lost with the amount of numbers involved"
   ]
  },
  {
   "cell_type": "code",
   "execution_count": 43,
   "id": "9022023f-6794-4ea9-bb56-c52ec6f2c387",
   "metadata": {},
   "outputs": [
    {
     "data": {
      "text/plain": [
       "array([0.        , 1.        , 1.41421356, 1.73205081])"
      ]
     },
     "execution_count": 43,
     "metadata": {},
     "output_type": "execute_result"
    }
   ],
   "source": [
    "np.sqrt(x)"
   ]
  },
  {
   "cell_type": "code",
   "execution_count": 45,
   "id": "0dcdd8c1-205e-42dc-88b0-f1aca7aca497",
   "metadata": {},
   "outputs": [
    {
     "data": {
      "text/plain": [
       "array([0, 1, 4, 9], dtype=int32)"
      ]
     },
     "execution_count": 45,
     "metadata": {},
     "output_type": "execute_result"
    }
   ],
   "source": [
    "np.power(x,2)"
   ]
  },
  {
   "cell_type": "markdown",
   "id": "09ab9cbe-8346-4558-bd55-b82ec8081b44",
   "metadata": {},
   "source": [
    "### Creating a 2D array"
   ]
  },
  {
   "cell_type": "code",
   "execution_count": 72,
   "id": "ee51664d-c671-4e6b-819c-c8354d0b1ec4",
   "metadata": {},
   "outputs": [
    {
     "data": {
      "text/plain": [
       "array([[1, 2, 3],\n",
       "       [4, 5, 6],\n",
       "       [7, 8, 9]])"
      ]
     },
     "execution_count": 72,
     "metadata": {},
     "output_type": "execute_result"
    }
   ],
   "source": [
    "arr1 = np.array([[1, 2, 3], [4, 5, 6], [7, 8, 9]])\n",
    "arr1"
   ]
  },
  {
   "cell_type": "markdown",
   "id": "bb818bc3-2bc5-47de-9fd3-1cd856cf507b",
   "metadata": {},
   "source": [
    "#### Creating a identity matrix"
   ]
  },
  {
   "cell_type": "code",
   "execution_count": 75,
   "id": "f3de41e9-5252-4e79-8f0f-a9608a33932f",
   "metadata": {},
   "outputs": [
    {
     "data": {
      "text/plain": [
       "array([[1., 0., 0.],\n",
       "       [0., 1., 0.],\n",
       "       [0., 0., 1.]])"
      ]
     },
     "execution_count": 75,
     "metadata": {},
     "output_type": "execute_result"
    }
   ],
   "source": [
    "arr2 = np.eye(3)\n",
    "arr2"
   ]
  },
  {
   "cell_type": "raw",
   "id": "02ece7c0-9e1e-451c-b3a0-064d14393cb5",
   "metadata": {},
   "source": [
    "To identify the dimensionality of an array"
   ]
  },
  {
   "cell_type": "code",
   "execution_count": 77,
   "id": "223b6557-f85c-4a6e-b18a-eb002da34fd3",
   "metadata": {},
   "outputs": [
    {
     "data": {
      "text/plain": [
       "2"
      ]
     },
     "execution_count": 77,
     "metadata": {},
     "output_type": "execute_result"
    }
   ],
   "source": [
    "arr1.ndim"
   ]
  },
  {
   "cell_type": "code",
   "execution_count": 93,
   "id": "23fd9e29-08a7-41d2-ae3c-e94a57f92c6a",
   "metadata": {},
   "outputs": [
    {
     "name": "stdout",
     "output_type": "stream",
     "text": [
      "arr1 x arr2 = \n",
      "\n",
      " [[1. 0. 0.]\n",
      " [0. 5. 0.]\n",
      " [0. 0. 9.]]\n"
     ]
    }
   ],
   "source": [
    "print(\"arr1 x arr2 = \\n\\n\",arr1*arr2) #element wise multiplcaion (cant use for matrice multiplication)"
   ]
  },
  {
   "cell_type": "code",
   "execution_count": 97,
   "id": "577a14f2-142d-4416-ac2f-4cb8c618ddc5",
   "metadata": {},
   "outputs": [
    {
     "data": {
      "text/plain": [
       "array([[1., 2., 3.],\n",
       "       [4., 5., 6.],\n",
       "       [7., 8., 9.]])"
      ]
     },
     "execution_count": 97,
     "metadata": {},
     "output_type": "execute_result"
    }
   ],
   "source": [
    "np.dot(arr1,arr2) # gives the tradition matrice multiplication "
   ]
  },
  {
   "cell_type": "code",
   "execution_count": 99,
   "id": "bc8418b6-fae4-405f-bc6e-fd77ae5bc8b8",
   "metadata": {},
   "outputs": [
    {
     "data": {
      "text/plain": [
       "array([[1., 2., 3.],\n",
       "       [4., 5., 6.],\n",
       "       [7., 8., 9.]])"
      ]
     },
     "execution_count": 99,
     "metadata": {},
     "output_type": "execute_result"
    }
   ],
   "source": [
    "arr1@arr2 # gives the tradition matrice multiplication "
   ]
  },
  {
   "cell_type": "code",
   "execution_count": 101,
   "id": "168a7714-3f00-48b5-88e2-186d840f34fc",
   "metadata": {},
   "outputs": [
    {
     "data": {
      "text/plain": [
       "array([2, 1, 0, 1, 2])"
      ]
     },
     "execution_count": 101,
     "metadata": {},
     "output_type": "execute_result"
    }
   ],
   "source": [
    "x = np.array([-2, -1, 0, 1, 2])\n",
    "abs(x) # Whats this?"
   ]
  },
  {
   "cell_type": "markdown",
   "id": "f3a849af-dacb-45f5-9585-c473ef3c71b7",
   "metadata": {},
   "source": [
    "### Trigonometry"
   ]
  },
  {
   "cell_type": "code",
   "execution_count": 103,
   "id": "e268e777-b1b0-4c27-957c-c04e3c424aaf",
   "metadata": {},
   "outputs": [],
   "source": [
    "angle = np.pi/4 "
   ]
  },
  {
   "cell_type": "code",
   "execution_count": 120,
   "id": "556a2955-ac89-4c47-82fe-f763aa972192",
   "metadata": {},
   "outputs": [
    {
     "name": "stdout",
     "output_type": "stream",
     "text": [
      "cosine: 0.71\n"
     ]
    }
   ],
   "source": [
    "print(\"cosine:\",round(np.cos(angle),2))"
   ]
  },
  {
   "cell_type": "code",
   "execution_count": 125,
   "id": "4b776248-cbd8-43f3-a8cc-71a0f6c156b4",
   "metadata": {},
   "outputs": [
    {
     "name": "stdout",
     "output_type": "stream",
     "text": [
      "sin: 0.71\n"
     ]
    }
   ],
   "source": [
    "print(\"sin:\", round(np.sin(angle),2))"
   ]
  },
  {
   "cell_type": "code",
   "execution_count": 151,
   "id": "332098b8-366e-44e3-86cf-1b5887a92ce8",
   "metadata": {},
   "outputs": [
    {
     "name": "stdout",
     "output_type": "stream",
     "text": [
      "y = 3.141592653589793\n"
     ]
    }
   ],
   "source": [
    "y=np.pi\n",
    "print(\"y =\",y)"
   ]
  },
  {
   "cell_type": "code",
   "execution_count": 157,
   "id": "a2811491-3af5-4eae-8d1c-fd67085c1e0f",
   "metadata": {},
   "outputs": [
    {
     "data": {
      "image/png": "[encoded data removed]",
      "text/latex": [
       "$\\displaystyle 3.14$"
      ],
      "text/plain": [
       "3.14"
      ]
     },
     "execution_count": 157,
     "metadata": {},
     "output_type": "execute_result"
    }
   ],
   "source": [
    "round(y,2)"
   ]
  },
  {
   "cell_type": "code",
   "execution_count": 163,
   "id": "a3eec4a1-af2c-411a-847f-290bc7bca43b",
   "metadata": {},
   "outputs": [
    {
     "name": "stdout",
     "output_type": "stream",
     "text": [
      "3.14\n"
     ]
    }
   ],
   "source": [
    "value = np.pi\n",
    "formatted_value=\"{:.2f}\".format(value)\n",
    "print(formatted_value)"
   ]
  },
  {
   "cell_type": "code",
   "execution_count": 165,
   "id": "39385468-e14b-43df-b1c5-e29527bed895",
   "metadata": {},
   "outputs": [],
   "source": [
    "a=180"
   ]
  },
  {
   "cell_type": "code",
   "execution_count": 175,
   "id": "ca63c13b-7a6e-4e6b-8272-6715d59a859f",
   "metadata": {},
   "outputs": [
    {
     "data": {
      "image/png": "[encoded data removed]",
      "text/latex": [
       "$\\displaystyle 3.14$"
      ],
      "text/plain": [
       "3.14"
      ]
     },
     "execution_count": 175,
     "metadata": {},
     "output_type": "execute_result"
    }
   ],
   "source": [
    "round(np.deg2rad(a),2)"
   ]
  },
  {
   "cell_type": "code",
   "execution_count": 177,
   "id": "a5f147e2-b5db-46e0-a905-929d1cf4b2d0",
   "metadata": {},
   "outputs": [],
   "source": [
    "b = np.pi/4"
   ]
  },
  {
   "cell_type": "code",
   "execution_count": 179,
   "id": "1545f664-eae1-4ed8-b3fb-d722ad1f7f07",
   "metadata": {},
   "outputs": [
    {
     "data": {
      "image/png": "[encoded data removed]",
      "text/latex": [
       "$\\displaystyle 0.785398163397448$"
      ],
      "text/plain": [
       "0.7853981633974483"
      ]
     },
     "execution_count": 179,
     "metadata": {},
     "output_type": "execute_result"
    }
   ],
   "source": [
    "b"
   ]
  },
  {
   "cell_type": "code",
   "execution_count": 185,
   "id": "adfda40a-11f0-435f-a462-d82dbbfafe1b",
   "metadata": {},
   "outputs": [
    {
     "name": "stdout",
     "output_type": "stream",
     "text": [
      "b = 45.0\n"
     ]
    }
   ],
   "source": [
    "print(\"b =\",np.rad2deg(np.pi/4))"
   ]
  },
  {
   "cell_type": "code",
   "execution_count": 193,
   "id": "c17d8fa9-642e-428d-9cdc-192449640a62",
   "metadata": {},
   "outputs": [],
   "source": [
    "z = np.array([1,2,3])"
   ]
  },
  {
   "cell_type": "code",
   "execution_count": 209,
   "id": "701f93c1-2b25-4cd4-844e-f86fb31b7011",
   "metadata": {},
   "outputs": [
    {
     "data": {
      "text/plain": [
       "array([ 1,  8, 27], dtype=int32)"
      ]
     },
     "execution_count": 209,
     "metadata": {},
     "output_type": "execute_result"
    }
   ],
   "source": [
    "np.power(z,3)"
   ]
  },
  {
   "cell_type": "code",
   "execution_count": 213,
   "id": "c7f2890f-9fdc-44a8-901e-1da8a226ab7e",
   "metadata": {},
   "outputs": [
    {
     "data": {
      "text/plain": [
       "array([ 1.        ,  6.58088599, 19.81299075])"
      ]
     },
     "execution_count": 213,
     "metadata": {},
     "output_type": "execute_result"
    }
   ],
   "source": [
    "np.power(z,np.e)"
   ]
  },
  {
   "cell_type": "code",
   "execution_count": 215,
   "id": "76bccd85-8935-4b74-8a7f-6090ecac3f5d",
   "metadata": {},
   "outputs": [],
   "source": [
    "data = np.array([10,20,30,40,50,])"
   ]
  },
  {
   "cell_type": "code",
   "execution_count": 217,
   "id": "1c0058ca-13f1-4fd8-bf81-4d9c56992985",
   "metadata": {},
   "outputs": [
    {
     "name": "stdout",
     "output_type": "stream",
     "text": [
      "minimum value is =  10\n"
     ]
    }
   ],
   "source": [
    "print(\"minimum value is = \",np.min(data))"
   ]
  },
  {
   "cell_type": "code",
   "execution_count": 219,
   "id": "71b47686-4b9e-4769-9419-cd42754da120",
   "metadata": {},
   "outputs": [
    {
     "name": "stdout",
     "output_type": "stream",
     "text": [
      "maximum value is = 50\n"
     ]
    }
   ],
   "source": [
    "print(\"maximum value is =\",np.max(data))"
   ]
  },
  {
   "cell_type": "markdown",
   "id": "52bc158b-5637-4ac4-b783-223ec63f0b58",
   "metadata": {},
   "source": [
    "### multiple ways to calculate the mean"
   ]
  },
  {
   "cell_type": "code",
   "execution_count": 225,
   "id": "dc46328e-f2cb-4cbd-a1d2-f52b2a526d61",
   "metadata": {},
   "outputs": [
    {
     "name": "stdout",
     "output_type": "stream",
     "text": [
      "Total is =  150\n"
     ]
    }
   ],
   "source": [
    "print(\"Total is = \",(T:= np.sum(data)))"
   ]
  },
  {
   "cell_type": "code",
   "execution_count": 231,
   "id": "1c50d3ca-829f-40a7-8b8e-225aeedd2992",
   "metadata": {},
   "outputs": [
    {
     "name": "stdout",
     "output_type": "stream",
     "text": [
      "The mean is= 30.0\n"
     ]
    }
   ],
   "source": [
    "print(\"The mean is=\",(T/len(data)))"
   ]
  },
  {
   "cell_type": "code",
   "execution_count": 235,
   "id": "20a2bf5c-f584-455e-be1d-5444ff313fa7",
   "metadata": {},
   "outputs": [
    {
     "name": "stdout",
     "output_type": "stream",
     "text": [
      "The mean is= 30.0\n"
     ]
    }
   ],
   "source": [
    "print(\"The mean is=\",(sum(data)/len(data)))"
   ]
  },
  {
   "cell_type": "code",
   "execution_count": 242,
   "id": "20806ef0-bf6e-4e48-a0dd-4f91ba63a976",
   "metadata": {},
   "outputs": [
    {
     "name": "stdout",
     "output_type": "stream",
     "text": [
      "The mean is= 30.0\n"
     ]
    }
   ],
   "source": [
    "print(\"The mean is=\",np.mean(data))"
   ]
  },
  {
   "cell_type": "code",
   "execution_count": 245,
   "id": "cc37e3d9-e2a4-496d-9d48-bd8263c07a34",
   "metadata": {},
   "outputs": [],
   "source": [
    "A = sum(data)\n",
    "B=len(data)"
   ]
  },
  {
   "cell_type": "code",
   "execution_count": 247,
   "id": "03814d7a-5473-40e2-a6ef-79faa5cd1adb",
   "metadata": {},
   "outputs": [
    {
     "name": "stdout",
     "output_type": "stream",
     "text": [
      "The mean is = 30.0\n"
     ]
    }
   ],
   "source": [
    "print(\"The mean is =\",A/B)"
   ]
  },
  {
   "cell_type": "markdown",
   "id": "01e64463-3395-4c5c-90b5-217b23e6ed97",
   "metadata": {},
   "source": [
    "## lab"
   ]
  },
  {
   "cell_type": "markdown",
   "id": "5baf4e49-c26a-4938-ab7c-e76c46cab1b3",
   "metadata": {},
   "source": [
    "### Question 1"
   ]
  },
  {
   "cell_type": "code",
   "execution_count": 250,
   "id": "c75e593a-f3e3-4d46-89c5-4874e49800ca",
   "metadata": {},
   "outputs": [],
   "source": [
    "a = np.array([2,9,16,25])"
   ]
  },
  {
   "cell_type": "code",
   "execution_count": 256,
   "id": "f1c31358-3c1d-4368-a60f-4a1c89d1beb7",
   "metadata": {},
   "outputs": [
    {
     "name": "stdout",
     "output_type": "stream",
     "text": [
      "Sqrt [1.41421356 3.         4.         5.        ]\n"
     ]
    }
   ],
   "source": [
    "print(\"Sqrt\",np.sqrt(a))"
   ]
  },
  {
   "cell_type": "code",
   "execution_count": 262,
   "id": "9d0add38-0b5e-4b87-8e5e-771c34595b54",
   "metadata": {},
   "outputs": [
    {
     "name": "stdout",
     "output_type": "stream",
     "text": [
      "square [  4  81 256 625]\n"
     ]
    }
   ],
   "source": [
    "print(\"square\",np.square(a))"
   ]
  },
  {
   "cell_type": "markdown",
   "id": "9f7fd7a4-cc2b-4102-80f0-364442ee3cc3",
   "metadata": {},
   "source": [
    "### Question 2"
   ]
  },
  {
   "cell_type": "code",
   "execution_count": 286,
   "id": "95ec6107-360c-45b4-9729-f4caeeaf5f35",
   "metadata": {},
   "outputs": [],
   "source": [
    "qt = np.array([0,np.pi/6,np.pi/4,np.pi/2])"
   ]
  },
  {
   "cell_type": "code",
   "execution_count": 288,
   "id": "c7b5e866-51d5-4f6e-acb3-f97fff1af6f7",
   "metadata": {},
   "outputs": [
    {
     "name": "stdout",
     "output_type": "stream",
     "text": [
      "sin = [0.         0.5        0.70710678 1.        ]\n",
      "cos = [1.00000000e+00 8.66025404e-01 7.07106781e-01 6.12323400e-17]\n",
      "tan = [0.00000000e+00 5.77350269e-01 1.00000000e+00 1.63312394e+16]\n"
     ]
    }
   ],
   "source": [
    "print(\"sin =\",np.sin(qt))\n",
    "print(\"cos =\",np.cos(qt))\n",
    "print(\"tan =\",np.tan(qt))"
   ]
  },
  {
   "cell_type": "markdown",
   "id": "fe03f4df-5e9d-4f52-9c58-39dfc6afafc9",
   "metadata": {},
   "source": [
    "### Question 3"
   ]
  },
  {
   "cell_type": "code",
   "execution_count": 290,
   "id": "0d2487c4-b411-42cd-9ede-0c037488b872",
   "metadata": {},
   "outputs": [],
   "source": [
    "a = np.array([10,20,30,40])\n",
    "p = print"
   ]
  },
  {
   "cell_type": "code",
   "execution_count": 304,
   "id": "989e825b-d41c-45fc-87e0-445240cb70c1",
   "metadata": {},
   "outputs": [
    {
     "name": "stdout",
     "output_type": "stream",
     "text": [
      "sum 100 \n",
      "mean 25.0 \n",
      "max 40\n"
     ]
    }
   ],
   "source": [
    "p(\"sum\",sum(a), \"\\nmean\", np.mean(a), \"\\nmax\",np.max(a))"
   ]
  },
  {
   "cell_type": "markdown",
   "id": "07249f63-f72d-495e-8841-a4758ef9df25",
   "metadata": {},
   "source": [
    "### Comparison operators"
   ]
  },
  {
   "cell_type": "code",
   "execution_count": 317,
   "id": "d67336eb-4dca-4fbc-b70f-7af47d1e7fe1",
   "metadata": {},
   "outputs": [],
   "source": [
    "r = np.array([1,2,3])\n",
    "p = np.array([3,2,1])"
   ]
  },
  {
   "cell_type": "code",
   "execution_count": 314,
   "id": "f359e29a-d195-4dca-b57a-7e15cd3268f1",
   "metadata": {},
   "outputs": [
    {
     "name": "stdout",
     "output_type": "stream",
     "text": [
      "[False  True False]\n"
     ]
    }
   ],
   "source": [
    "print(np.equal(r,p))"
   ]
  },
  {
   "cell_type": "code",
   "execution_count": 321,
   "id": "c7b005da-2d50-4ca1-838f-9ec39c17670c",
   "metadata": {},
   "outputs": [
    {
     "name": "stdout",
     "output_type": "stream",
     "text": [
      "[False  True False]\n"
     ]
    }
   ],
   "source": [
    "print(r==p)"
   ]
  },
  {
   "cell_type": "code",
   "execution_count": null,
   "id": "0fbed927-42c6-4d9a-8e2c-5617bcf119c6",
   "metadata": {},
   "outputs": [],
   "source": []
  }
 ],
 "metadata": {
  "kernelspec": {
   "display_name": "Python 3 (ipykernel)",
   "language": "python",
   "name": "python3"
  },
  "language_info": {
   "codemirror_mode": {
    "name": "ipython",
    "version": 3
   },
   "file_extension": ".py",
   "mimetype": "text/x-python",
   "name": "python",
   "nbconvert_exporter": "python",
   "pygments_lexer": "ipython3",
   "version": "3.12.7"
  }
 },
 "nbformat": 4,
 "nbformat_minor": 5
}
